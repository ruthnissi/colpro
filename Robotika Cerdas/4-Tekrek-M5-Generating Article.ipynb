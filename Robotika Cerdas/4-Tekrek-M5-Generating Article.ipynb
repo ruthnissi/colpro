{
 "cells": [
  {
   "cell_type": "markdown",
   "metadata": {
    "id": "wMHdOwbtksJc"
   },
   "source": [
    "# Automated Article Generation\n",
    "\n",
    "Dalam praktikum ini Anda akan mencoba untuk membuat sebuah artikel dengan library yang telah di training sebelumnya atau yang dikenal sebagai pre-trained model. Apabila Anda akan mengunduh file praktikum dan menjalankan pada mesin local Anda, silahkan pastikan dependency library lainnya telah terinstall. Pada praktikum ini Anda akan menggunakan model GPT2 dari OpenAI."
   ]
  },
  {
   "cell_type": "code",
   "execution_count": 4,
   "metadata": {
    "colab": {
     "base_uri": "https://localhost:8080/"
    },
    "executionInfo": {
     "elapsed": 12648,
     "status": "ok",
     "timestamp": 1653388159411,
     "user": {
      "displayName": "Praktikum MK Unggulan",
      "userId": "11672612545674001480"
     },
     "user_tz": -420
    },
    "id": "HtoQ9D0dnOyG",
    "outputId": "a6e5efa5-94c2-4faf-e7e1-62111832b9af"
   },
   "outputs": [
    {
     "name": "stdout",
     "output_type": "stream",
     "text": [
      "Looking in indexes: https://pypi.org/simple, https://us-python.pkg.dev/colab-wheels/public/simple/\n",
      "Collecting transformers\n",
      "  Downloading transformers-4.19.2-py3-none-any.whl (4.2 MB)\n",
      "\u001b[K     |████████████████████████████████| 4.2 MB 4.4 MB/s \n",
      "\u001b[?25hRequirement already satisfied: tqdm>=4.27 in /usr/local/lib/python3.7/dist-packages (from transformers) (4.64.0)\n",
      "Requirement already satisfied: importlib-metadata in /usr/local/lib/python3.7/dist-packages (from transformers) (4.11.3)\n",
      "Requirement already satisfied: filelock in /usr/local/lib/python3.7/dist-packages (from transformers) (3.7.0)\n",
      "Collecting pyyaml>=5.1\n",
      "  Downloading PyYAML-6.0-cp37-cp37m-manylinux_2_5_x86_64.manylinux1_x86_64.manylinux_2_12_x86_64.manylinux2010_x86_64.whl (596 kB)\n",
      "\u001b[K     |████████████████████████████████| 596 kB 52.6 MB/s \n",
      "\u001b[?25hRequirement already satisfied: packaging>=20.0 in /usr/local/lib/python3.7/dist-packages (from transformers) (21.3)\n",
      "Requirement already satisfied: requests in /usr/local/lib/python3.7/dist-packages (from transformers) (2.23.0)\n",
      "Requirement already satisfied: regex!=2019.12.17 in /usr/local/lib/python3.7/dist-packages (from transformers) (2019.12.20)\n",
      "Collecting tokenizers!=0.11.3,<0.13,>=0.11.1\n",
      "  Downloading tokenizers-0.12.1-cp37-cp37m-manylinux_2_12_x86_64.manylinux2010_x86_64.whl (6.6 MB)\n",
      "\u001b[K     |████████████████████████████████| 6.6 MB 36.4 MB/s \n",
      "\u001b[?25hCollecting huggingface-hub<1.0,>=0.1.0\n",
      "  Downloading huggingface_hub-0.6.0-py3-none-any.whl (84 kB)\n",
      "\u001b[K     |████████████████████████████████| 84 kB 2.8 MB/s \n",
      "\u001b[?25hRequirement already satisfied: numpy>=1.17 in /usr/local/lib/python3.7/dist-packages (from transformers) (1.21.6)\n",
      "Requirement already satisfied: typing-extensions>=3.7.4.3 in /usr/local/lib/python3.7/dist-packages (from huggingface-hub<1.0,>=0.1.0->transformers) (4.2.0)\n",
      "Requirement already satisfied: pyparsing!=3.0.5,>=2.0.2 in /usr/local/lib/python3.7/dist-packages (from packaging>=20.0->transformers) (3.0.9)\n",
      "Requirement already satisfied: zipp>=0.5 in /usr/local/lib/python3.7/dist-packages (from importlib-metadata->transformers) (3.8.0)\n",
      "Requirement already satisfied: certifi>=2017.4.17 in /usr/local/lib/python3.7/dist-packages (from requests->transformers) (2022.5.18.1)\n",
      "Requirement already satisfied: urllib3!=1.25.0,!=1.25.1,<1.26,>=1.21.1 in /usr/local/lib/python3.7/dist-packages (from requests->transformers) (1.24.3)\n",
      "Requirement already satisfied: idna<3,>=2.5 in /usr/local/lib/python3.7/dist-packages (from requests->transformers) (2.10)\n",
      "Requirement already satisfied: chardet<4,>=3.0.2 in /usr/local/lib/python3.7/dist-packages (from requests->transformers) (3.0.4)\n",
      "Installing collected packages: pyyaml, tokenizers, huggingface-hub, transformers\n",
      "  Attempting uninstall: pyyaml\n",
      "    Found existing installation: PyYAML 3.13\n",
      "    Uninstalling PyYAML-3.13:\n",
      "      Successfully uninstalled PyYAML-3.13\n",
      "Successfully installed huggingface-hub-0.6.0 pyyaml-6.0 tokenizers-0.12.1 transformers-4.19.2\n"
     ]
    }
   ],
   "source": [
    "pip install transformers"
   ]
  },
  {
   "cell_type": "code",
   "execution_count": 5,
   "metadata": {
    "executionInfo": {
     "elapsed": 3990,
     "status": "ok",
     "timestamp": 1653388170531,
     "user": {
      "displayName": "Praktikum MK Unggulan",
      "userId": "11672612545674001480"
     },
     "user_tz": -420
    },
    "id": "7fEKQoxMksJs"
   },
   "outputs": [],
   "source": [
    "import tensorflow as tf\n",
    "from transformers import GPT2LMHeadModel, GPT2Tokenizer"
   ]
  },
  {
   "cell_type": "markdown",
   "metadata": {
    "id": "74SbOZG6ksJx"
   },
   "source": [
    "###  Set Up Tokenizer dan Model\n",
    "\n",
    "Pada praktikum ini karena kita menggunakan model yang telah di latih sebelumnya, kita perlu mendefinisikan dua kompenen sebelum dapat membuat artikel secara otomatis yaitu tipe tokenizer dan model yang akan digunakan."
   ]
  },
  {
   "cell_type": "code",
   "execution_count": 6,
   "metadata": {
    "colab": {
     "base_uri": "https://localhost:8080/",
     "height": 113,
     "referenced_widgets": [
      "449cc627bbc9440885236ef7e369079e",
      "0dc141450d094d93b7482791e5926e9d",
      "5597d766134d49e08cc300f035acc50f",
      "0679e3540fb0468a90c4b7dbf32e9e9c",
      "13d17bedb04c4cf28e66340ad0e86c9d",
      "d3b5763e0d21414f9769be56b111bd56",
      "91f7cdf203fe4aaf86031e502044d83c",
      "dd911db902c044c19231d710419129c7",
      "e277412b18e349aeb82cc88b7304a64c",
      "e098a19d91fd401fbc3c010174dc91c8",
      "c312cc3334a04874a75de62466549a79",
      "745f1a47522141479b2c6c97e4333e87",
      "685f305a0f3548a7a17052aa84e73747",
      "c08627df432e4d259862d372d9f57b66",
      "534a142d14c64b719faa0149af5db66f",
      "f1653898d7f8435cb1a2653cd4c3efc0",
      "065b2872b4e145bb9d9af9c070d28799",
      "cc2f5ea1ee954eaeaa14434e6285ce19",
      "82b2d99b396f46198947fe82d2d3d3fc",
      "f215bc2359364c90bce8d572e76c35b1",
      "41fc576d65bd4f2e926a9c7d73d841ea",
      "1d4e895cc416449fad1db511bd9f188f",
      "fdb8a871e6d743af85496f0ca530b1fc",
      "b86aef32a9014a72bf4e9f43957bc45e",
      "140fd67ac66c45f1b8da96eac80c4821",
      "4136d86c0999431fbc2fc1ecb4204cc1",
      "f69e229076f14348b5e923bf8c2004ba",
      "83fbc163a1074aecbbd0dc8bbe76c9f3",
      "1ed86ff2c1d448fa985a9e4d5bc7b155",
      "7e9a47b94ec94f6cb3c2cfc02cb63864",
      "42847c215c684843add94d4173532c00",
      "19753ad5fffe4ec6ab654539ba2db9a6",
      "4bc24497a417480ca299355ee7af55d9"
     ]
    },
    "executionInfo": {
     "elapsed": 9423,
     "status": "ok",
     "timestamp": 1653388296497,
     "user": {
      "displayName": "Praktikum MK Unggulan",
      "userId": "11672612545674001480"
     },
     "user_tz": -420
    },
    "id": "cfXTkBunksJz",
    "outputId": "ea26ff3a-0aa6-436b-a134-9dbe50e242ce"
   },
   "outputs": [
    {
     "data": {
      "application/vnd.jupyter.widget-view+json": {
       "model_id": "449cc627bbc9440885236ef7e369079e",
       "version_major": 2,
       "version_minor": 0
      },
      "text/plain": [
       "Downloading:   0%|          | 0.00/0.99M [00:00<?, ?B/s]"
      ]
     },
     "metadata": {},
     "output_type": "display_data"
    },
    {
     "data": {
      "application/vnd.jupyter.widget-view+json": {
       "model_id": "745f1a47522141479b2c6c97e4333e87",
       "version_major": 2,
       "version_minor": 0
      },
      "text/plain": [
       "Downloading:   0%|          | 0.00/446k [00:00<?, ?B/s]"
      ]
     },
     "metadata": {},
     "output_type": "display_data"
    },
    {
     "data": {
      "application/vnd.jupyter.widget-view+json": {
       "model_id": "fdb8a871e6d743af85496f0ca530b1fc",
       "version_major": 2,
       "version_minor": 0
      },
      "text/plain": [
       "Downloading:   0%|          | 0.00/666 [00:00<?, ?B/s]"
      ]
     },
     "metadata": {},
     "output_type": "display_data"
    }
   ],
   "source": [
    "tokenizer = GPT2Tokenizer.from_pretrained(\"gpt2-large\")"
   ]
  },
  {
   "cell_type": "code",
   "execution_count": 7,
   "metadata": {
    "colab": {
     "base_uri": "https://localhost:8080/",
     "height": 49,
     "referenced_widgets": [
      "7fc9c60aa3a649c9b374efc5d4d7da9d",
      "8bc9a4b71df744efa5169be55c0523b1",
      "70fb994b9cfe4b72ba8ec18465b8c565",
      "6fb3ff725108483f9dfc07471556907e",
      "fc1c34e649a0462db761ae8ef139e934",
      "c49bc99f2d404c858bc637fd6c0f7fbf",
      "271551b174cc4dd1acd332fa3525d42f",
      "b4d1533a2ace4aa2930376000885e615",
      "1a3cf08f95dd443c8c9a341a81fe0a6a",
      "66889bda90ad4a829ee3022f6c29e0a1",
      "5925f8310d1d4cfeb2bdd66a7f5be003"
     ]
    },
    "executionInfo": {
     "elapsed": 86395,
     "status": "ok",
     "timestamp": 1653388475471,
     "user": {
      "displayName": "Praktikum MK Unggulan",
      "userId": "11672612545674001480"
     },
     "user_tz": -420
    },
    "id": "j0-IoWDgksJ0",
    "outputId": "d0b9fb71-42db-4c07-c317-463b9b696657"
   },
   "outputs": [
    {
     "data": {
      "application/vnd.jupyter.widget-view+json": {
       "model_id": "7fc9c60aa3a649c9b374efc5d4d7da9d",
       "version_major": 2,
       "version_minor": 0
      },
      "text/plain": [
       "Downloading:   0%|          | 0.00/3.02G [00:00<?, ?B/s]"
      ]
     },
     "metadata": {},
     "output_type": "display_data"
    }
   ],
   "source": [
    "model = GPT2LMHeadModel.from_pretrained(\"gpt2-large\", pad_token_id=tokenizer.eos_token_id)"
   ]
  },
  {
   "cell_type": "markdown",
   "metadata": {
    "id": "f7kLAjrxksJ1"
   },
   "source": [
    "### Proses Tokenisasi\n",
    "\n",
    "Pada praktikum ini karena kita menggunakan model yang telah di latih sebelumnya, kita perlu mendefinisikan dua kompenen sebelum dapat membuat artikel secara otomatis yaitu tipe tokenizer dan model yang akan digunakan. Proses tokenisasi pada dasarnya adalah pemisahan frasa, kalimat, paragraf, atau seluruh dokumen teks menjadi unit yang lebih kecil, seperti kata atau istilah individual. Masing-masing unit yang lebih kecil ini disebut token. Dalam tokenization, unit yang lebih kecil dibuat dengan menempatkan batas kata. Batas kata adalah titik akhir dari sebuah kata dan awal dari kata berikutnya. Token ini dianggap sebagai langkah pertama untuk proses stemming dan lemmatization"
   ]
  },
  {
   "cell_type": "code",
   "execution_count": 8,
   "metadata": {
    "executionInfo": {
     "elapsed": 531,
     "status": "ok",
     "timestamp": 1653388572807,
     "user": {
      "displayName": "Praktikum MK Unggulan",
      "userId": "11672612545674001480"
     },
     "user_tz": -420
    },
    "id": "zntetOL8ksJ5"
   },
   "outputs": [],
   "source": [
    "blog_title = \"Weekend Gateway\""
   ]
  },
  {
   "cell_type": "code",
   "execution_count": 9,
   "metadata": {
    "executionInfo": {
     "elapsed": 509,
     "status": "ok",
     "timestamp": 1653388576274,
     "user": {
      "displayName": "Praktikum MK Unggulan",
      "userId": "11672612545674001480"
     },
     "user_tz": -420
    },
    "id": "_cp_hXyKksJ7"
   },
   "outputs": [],
   "source": [
    "input = tokenizer.encode(blog_title, return_tensors='pt')"
   ]
  },
  {
   "cell_type": "code",
   "execution_count": 10,
   "metadata": {
    "colab": {
     "base_uri": "https://localhost:8080/"
    },
    "executionInfo": {
     "elapsed": 560,
     "status": "ok",
     "timestamp": 1653388579893,
     "user": {
      "displayName": "Praktikum MK Unggulan",
      "userId": "11672612545674001480"
     },
     "user_tz": -420
    },
    "id": "8dymXydSksJ9",
    "outputId": "0f2a2c6a-b7c5-48c7-fb47-d7e47ed0a1d0"
   },
   "outputs": [
    {
     "data": {
      "text/plain": [
       "tensor([[20916,   437, 29916]])"
      ]
     },
     "execution_count": 10,
     "metadata": {},
     "output_type": "execute_result"
    }
   ],
   "source": [
    "input"
   ]
  },
  {
   "cell_type": "markdown",
   "metadata": {
    "id": "nG4Ov-TnksKA"
   },
   "source": [
    "### Let's Generate!\n",
    "\n",
    "Pada tahapan ini Anda sudah siap untuk membuat model pertama Anda"
   ]
  },
  {
   "cell_type": "markdown",
   "metadata": {
    "id": "1d-GtXEvksKD"
   },
   "source": [
    "##### Beam Search\n",
    "\n",
    "Pencarian dengan metode beam search mengurangi risiko kehilangan urutan kata probabilitas tinggi yang tersembunyi dengan menjaga jumlah hipotesis yang paling mungkin pada setiap langkah waktu dan akhirnya memilih hipotesis yang memiliki probabilitas tertinggi secara keseluruhan. Dengan pendekatan ini, algoritma beam search dapat mengatasi kekurangan yang dimiliki oleh algoritma seperti greedy search\n",
    "\n",
    "Berikut ilustrasi dari algoritma beam search\n",
    "\n",
    "![beam_search.png](data:image/png;base64,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)\n",
    "\n"
   ]
  },
  {
   "cell_type": "code",
   "execution_count": 11,
   "metadata": {
    "executionInfo": {
     "elapsed": 43203,
     "status": "ok",
     "timestamp": 1653388848482,
     "user": {
      "displayName": "Praktikum MK Unggulan",
      "userId": "11672612545674001480"
     },
     "user_tz": -420
    },
    "id": "l2MsBBOmksKF"
   },
   "outputs": [],
   "source": [
    "output = model.generate(input, max_length=100, num_beans=5, no_repeat_ngram_size=2,early_stopping=True)"
   ]
  },
  {
   "cell_type": "code",
   "execution_count": 12,
   "metadata": {
    "colab": {
     "base_uri": "https://localhost:8080/"
    },
    "executionInfo": {
     "elapsed": 584,
     "status": "ok",
     "timestamp": 1653388905374,
     "user": {
      "displayName": "Praktikum MK Unggulan",
      "userId": "11672612545674001480"
     },
     "user_tz": -420
    },
    "id": "Qa7H-zk6ksKH",
    "outputId": "e4ae2c83-200e-4115-d278-36650d9df800"
   },
   "outputs": [
    {
     "name": "stdout",
     "output_type": "stream",
     "text": [
      "Weekend Gateway\n",
      "\n",
      "The weekend gateway is a new feature that allows you to connect to the internet from your computer. It is available for Windows, Mac, and Linux.\n",
      ".NET Framework 4.5\n",
      "This is the latest version of the.NET framework. This is an important update for.Net developers. The.net framework is used by many of our applications. If you are using.dotnet, you will need to upgrade to this version. You can download the new version from\n"
     ]
    }
   ],
   "source": [
    "print(tokenizer.decode(output[0], skip_special_tokens=True))"
   ]
  }
 ],
 "metadata": {
  "colab": {
   "collapsed_sections": [],
   "name": "M5-TK4-HandsOn-Generating Article.ipynb",
   "provenance": []
  },
  "kernelspec": {
   "display_name": "Python 3",
   "language": "python",
   "name": "python3"
  },
  "language_info": {
   "codemirror_mode": {
    "name": "ipython",
    "version": 3
   },
   "file_extension": ".py",
   "mimetype": "text/x-python",
   "name": "python",
   "nbconvert_exporter": "python",
   "pygments_lexer": "ipython3",
   "version": "3.6.9"
  },
  "widgets": {
   "application/vnd.jupyter.widget-state+json": {
    "065b2872b4e145bb9d9af9c070d28799": {
     "model_module": "@jupyter-widgets/base",
     "model_module_version": "1.2.0",
     "model_name": "LayoutModel",
     "state": {
      "_model_module": "@jupyter-widgets/base",
      "_model_module_version": "1.2.0",
      "_model_name": "LayoutModel",
      "_view_count": null,
      "_view_module": "@jupyter-widgets/base",
      "_view_module_version": "1.2.0",
      "_view_name": "LayoutView",
      "align_content": null,
      "align_items": null,
      "align_self": null,
      "border": null,
      "bottom": null,
      "display": null,
      "flex": null,
      "flex_flow": null,
      "grid_area": null,
      "grid_auto_columns": null,
      "grid_auto_flow": null,
      "grid_auto_rows": null,
      "grid_column": null,
      "grid_gap": null,
      "grid_row": null,
      "grid_template_areas": null,
      "grid_template_columns": null,
      "grid_template_rows": null,
      "height": null,
      "justify_content": null,
      "justify_items": null,
      "left": null,
      "margin": null,
      "max_height": null,
      "max_width": null,
      "min_height": null,
      "min_width": null,
      "object_fit": null,
      "object_position": null,
      "order": null,
      "overflow": null,
      "overflow_x": null,
      "overflow_y": null,
      "padding": null,
      "right": null,
      "top": null,
      "visibility": null,
      "width": null
     }
    },
    "0679e3540fb0468a90c4b7dbf32e9e9c": {
     "model_module": "@jupyter-widgets/controls",
     "model_module_version": "1.5.0",
     "model_name": "HTMLModel",
     "state": {
      "_dom_classes": [],
      "_model_module": "@jupyter-widgets/controls",
      "_model_module_version": "1.5.0",
      "_model_name": "HTMLModel",
      "_view_count": null,
      "_view_module": "@jupyter-widgets/controls",
      "_view_module_version": "1.5.0",
      "_view_name": "HTMLView",
      "description": "",
      "description_tooltip": null,
      "layout": "IPY_MODEL_e098a19d91fd401fbc3c010174dc91c8",
      "placeholder": "​",
      "style": "IPY_MODEL_c312cc3334a04874a75de62466549a79",
      "value": " 0.99M/0.99M [00:01&lt;00:00, 933kB/s]"
     }
    },
    "0dc141450d094d93b7482791e5926e9d": {
     "model_module": "@jupyter-widgets/controls",
     "model_module_version": "1.5.0",
     "model_name": "HTMLModel",
     "state": {
      "_dom_classes": [],
      "_model_module": "@jupyter-widgets/controls",
      "_model_module_version": "1.5.0",
      "_model_name": "HTMLModel",
      "_view_count": null,
      "_view_module": "@jupyter-widgets/controls",
      "_view_module_version": "1.5.0",
      "_view_name": "HTMLView",
      "description": "",
      "description_tooltip": null,
      "layout": "IPY_MODEL_d3b5763e0d21414f9769be56b111bd56",
      "placeholder": "​",
      "style": "IPY_MODEL_91f7cdf203fe4aaf86031e502044d83c",
      "value": "Downloading: 100%"
     }
    },
    "13d17bedb04c4cf28e66340ad0e86c9d": {
     "model_module": "@jupyter-widgets/base",
     "model_module_version": "1.2.0",
     "model_name": "LayoutModel",
     "state": {
      "_model_module": "@jupyter-widgets/base",
      "_model_module_version": "1.2.0",
      "_model_name": "LayoutModel",
      "_view_count": null,
      "_view_module": "@jupyter-widgets/base",
      "_view_module_version": "1.2.0",
      "_view_name": "LayoutView",
      "align_content": null,
      "align_items": null,
      "align_self": null,
      "border": null,
      "bottom": null,
      "display": null,
      "flex": null,
      "flex_flow": null,
      "grid_area": null,
      "grid_auto_columns": null,
      "grid_auto_flow": null,
      "grid_auto_rows": null,
      "grid_column": null,
      "grid_gap": null,
      "grid_row": null,
      "grid_template_areas": null,
      "grid_template_columns": null,
      "grid_template_rows": null,
      "height": null,
      "justify_content": null,
      "justify_items": null,
      "left": null,
      "margin": null,
      "max_height": null,
      "max_width": null,
      "min_height": null,
      "min_width": null,
      "object_fit": null,
      "object_position": null,
      "order": null,
      "overflow": null,
      "overflow_x": null,
      "overflow_y": null,
      "padding": null,
      "right": null,
      "top": null,
      "visibility": null,
      "width": null
     }
    },
    "140fd67ac66c45f1b8da96eac80c4821": {
     "model_module": "@jupyter-widgets/controls",
     "model_module_version": "1.5.0",
     "model_name": "FloatProgressModel",
     "state": {
      "_dom_classes": [],
      "_model_module": "@jupyter-widgets/controls",
      "_model_module_version": "1.5.0",
      "_model_name": "FloatProgressModel",
      "_view_count": null,
      "_view_module": "@jupyter-widgets/controls",
      "_view_module_version": "1.5.0",
      "_view_name": "ProgressView",
      "bar_style": "success",
      "description": "",
      "description_tooltip": null,
      "layout": "IPY_MODEL_7e9a47b94ec94f6cb3c2cfc02cb63864",
      "max": 666,
      "min": 0,
      "orientation": "horizontal",
      "style": "IPY_MODEL_42847c215c684843add94d4173532c00",
      "value": 666
     }
    },
    "19753ad5fffe4ec6ab654539ba2db9a6": {
     "model_module": "@jupyter-widgets/base",
     "model_module_version": "1.2.0",
     "model_name": "LayoutModel",
     "state": {
      "_model_module": "@jupyter-widgets/base",
      "_model_module_version": "1.2.0",
      "_model_name": "LayoutModel",
      "_view_count": null,
      "_view_module": "@jupyter-widgets/base",
      "_view_module_version": "1.2.0",
      "_view_name": "LayoutView",
      "align_content": null,
      "align_items": null,
      "align_self": null,
      "border": null,
      "bottom": null,
      "display": null,
      "flex": null,
      "flex_flow": null,
      "grid_area": null,
      "grid_auto_columns": null,
      "grid_auto_flow": null,
      "grid_auto_rows": null,
      "grid_column": null,
      "grid_gap": null,
      "grid_row": null,
      "grid_template_areas": null,
      "grid_template_columns": null,
      "grid_template_rows": null,
      "height": null,
      "justify_content": null,
      "justify_items": null,
      "left": null,
      "margin": null,
      "max_height": null,
      "max_width": null,
      "min_height": null,
      "min_width": null,
      "object_fit": null,
      "object_position": null,
      "order": null,
      "overflow": null,
      "overflow_x": null,
      "overflow_y": null,
      "padding": null,
      "right": null,
      "top": null,
      "visibility": null,
      "width": null
     }
    },
    "1a3cf08f95dd443c8c9a341a81fe0a6a": {
     "model_module": "@jupyter-widgets/controls",
     "model_module_version": "1.5.0",
     "model_name": "ProgressStyleModel",
     "state": {
      "_model_module": "@jupyter-widgets/controls",
      "_model_module_version": "1.5.0",
      "_model_name": "ProgressStyleModel",
      "_view_count": null,
      "_view_module": "@jupyter-widgets/base",
      "_view_module_version": "1.2.0",
      "_view_name": "StyleView",
      "bar_color": null,
      "description_width": ""
     }
    },
    "1d4e895cc416449fad1db511bd9f188f": {
     "model_module": "@jupyter-widgets/controls",
     "model_module_version": "1.5.0",
     "model_name": "DescriptionStyleModel",
     "state": {
      "_model_module": "@jupyter-widgets/controls",
      "_model_module_version": "1.5.0",
      "_model_name": "DescriptionStyleModel",
      "_view_count": null,
      "_view_module": "@jupyter-widgets/base",
      "_view_module_version": "1.2.0",
      "_view_name": "StyleView",
      "description_width": ""
     }
    },
    "1ed86ff2c1d448fa985a9e4d5bc7b155": {
     "model_module": "@jupyter-widgets/controls",
     "model_module_version": "1.5.0",
     "model_name": "DescriptionStyleModel",
     "state": {
      "_model_module": "@jupyter-widgets/controls",
      "_model_module_version": "1.5.0",
      "_model_name": "DescriptionStyleModel",
      "_view_count": null,
      "_view_module": "@jupyter-widgets/base",
      "_view_module_version": "1.2.0",
      "_view_name": "StyleView",
      "description_width": ""
     }
    },
    "271551b174cc4dd1acd332fa3525d42f": {
     "model_module": "@jupyter-widgets/controls",
     "model_module_version": "1.5.0",
     "model_name": "DescriptionStyleModel",
     "state": {
      "_model_module": "@jupyter-widgets/controls",
      "_model_module_version": "1.5.0",
      "_model_name": "DescriptionStyleModel",
      "_view_count": null,
      "_view_module": "@jupyter-widgets/base",
      "_view_module_version": "1.2.0",
      "_view_name": "StyleView",
      "description_width": ""
     }
    },
    "4136d86c0999431fbc2fc1ecb4204cc1": {
     "model_module": "@jupyter-widgets/controls",
     "model_module_version": "1.5.0",
     "model_name": "HTMLModel",
     "state": {
      "_dom_classes": [],
      "_model_module": "@jupyter-widgets/controls",
      "_model_module_version": "1.5.0",
      "_model_name": "HTMLModel",
      "_view_count": null,
      "_view_module": "@jupyter-widgets/controls",
      "_view_module_version": "1.5.0",
      "_view_name": "HTMLView",
      "description": "",
      "description_tooltip": null,
      "layout": "IPY_MODEL_19753ad5fffe4ec6ab654539ba2db9a6",
      "placeholder": "​",
      "style": "IPY_MODEL_4bc24497a417480ca299355ee7af55d9",
      "value": " 666/666 [00:00&lt;00:00, 11.9kB/s]"
     }
    },
    "41fc576d65bd4f2e926a9c7d73d841ea": {
     "model_module": "@jupyter-widgets/base",
     "model_module_version": "1.2.0",
     "model_name": "LayoutModel",
     "state": {
      "_model_module": "@jupyter-widgets/base",
      "_model_module_version": "1.2.0",
      "_model_name": "LayoutModel",
      "_view_count": null,
      "_view_module": "@jupyter-widgets/base",
      "_view_module_version": "1.2.0",
      "_view_name": "LayoutView",
      "align_content": null,
      "align_items": null,
      "align_self": null,
      "border": null,
      "bottom": null,
      "display": null,
      "flex": null,
      "flex_flow": null,
      "grid_area": null,
      "grid_auto_columns": null,
      "grid_auto_flow": null,
      "grid_auto_rows": null,
      "grid_column": null,
      "grid_gap": null,
      "grid_row": null,
      "grid_template_areas": null,
      "grid_template_columns": null,
      "grid_template_rows": null,
      "height": null,
      "justify_content": null,
      "justify_items": null,
      "left": null,
      "margin": null,
      "max_height": null,
      "max_width": null,
      "min_height": null,
      "min_width": null,
      "object_fit": null,
      "object_position": null,
      "order": null,
      "overflow": null,
      "overflow_x": null,
      "overflow_y": null,
      "padding": null,
      "right": null,
      "top": null,
      "visibility": null,
      "width": null
     }
    },
    "42847c215c684843add94d4173532c00": {
     "model_module": "@jupyter-widgets/controls",
     "model_module_version": "1.5.0",
     "model_name": "ProgressStyleModel",
     "state": {
      "_model_module": "@jupyter-widgets/controls",
      "_model_module_version": "1.5.0",
      "_model_name": "ProgressStyleModel",
      "_view_count": null,
      "_view_module": "@jupyter-widgets/base",
      "_view_module_version": "1.2.0",
      "_view_name": "StyleView",
      "bar_color": null,
      "description_width": ""
     }
    },
    "449cc627bbc9440885236ef7e369079e": {
     "model_module": "@jupyter-widgets/controls",
     "model_module_version": "1.5.0",
     "model_name": "HBoxModel",
     "state": {
      "_dom_classes": [],
      "_model_module": "@jupyter-widgets/controls",
      "_model_module_version": "1.5.0",
      "_model_name": "HBoxModel",
      "_view_count": null,
      "_view_module": "@jupyter-widgets/controls",
      "_view_module_version": "1.5.0",
      "_view_name": "HBoxView",
      "box_style": "",
      "children": [
       "IPY_MODEL_0dc141450d094d93b7482791e5926e9d",
       "IPY_MODEL_5597d766134d49e08cc300f035acc50f",
       "IPY_MODEL_0679e3540fb0468a90c4b7dbf32e9e9c"
      ],
      "layout": "IPY_MODEL_13d17bedb04c4cf28e66340ad0e86c9d"
     }
    },
    "4bc24497a417480ca299355ee7af55d9": {
     "model_module": "@jupyter-widgets/controls",
     "model_module_version": "1.5.0",
     "model_name": "DescriptionStyleModel",
     "state": {
      "_model_module": "@jupyter-widgets/controls",
      "_model_module_version": "1.5.0",
      "_model_name": "DescriptionStyleModel",
      "_view_count": null,
      "_view_module": "@jupyter-widgets/base",
      "_view_module_version": "1.2.0",
      "_view_name": "StyleView",
      "description_width": ""
     }
    },
    "534a142d14c64b719faa0149af5db66f": {
     "model_module": "@jupyter-widgets/controls",
     "model_module_version": "1.5.0",
     "model_name": "HTMLModel",
     "state": {
      "_dom_classes": [],
      "_model_module": "@jupyter-widgets/controls",
      "_model_module_version": "1.5.0",
      "_model_name": "HTMLModel",
      "_view_count": null,
      "_view_module": "@jupyter-widgets/controls",
      "_view_module_version": "1.5.0",
      "_view_name": "HTMLView",
      "description": "",
      "description_tooltip": null,
      "layout": "IPY_MODEL_41fc576d65bd4f2e926a9c7d73d841ea",
      "placeholder": "​",
      "style": "IPY_MODEL_1d4e895cc416449fad1db511bd9f188f",
      "value": " 446k/446k [00:00&lt;00:00, 356kB/s]"
     }
    },
    "5597d766134d49e08cc300f035acc50f": {
     "model_module": "@jupyter-widgets/controls",
     "model_module_version": "1.5.0",
     "model_name": "FloatProgressModel",
     "state": {
      "_dom_classes": [],
      "_model_module": "@jupyter-widgets/controls",
      "_model_module_version": "1.5.0",
      "_model_name": "FloatProgressModel",
      "_view_count": null,
      "_view_module": "@jupyter-widgets/controls",
      "_view_module_version": "1.5.0",
      "_view_name": "ProgressView",
      "bar_style": "success",
      "description": "",
      "description_tooltip": null,
      "layout": "IPY_MODEL_dd911db902c044c19231d710419129c7",
      "max": 1042301,
      "min": 0,
      "orientation": "horizontal",
      "style": "IPY_MODEL_e277412b18e349aeb82cc88b7304a64c",
      "value": 1042301
     }
    },
    "5925f8310d1d4cfeb2bdd66a7f5be003": {
     "model_module": "@jupyter-widgets/controls",
     "model_module_version": "1.5.0",
     "model_name": "DescriptionStyleModel",
     "state": {
      "_model_module": "@jupyter-widgets/controls",
      "_model_module_version": "1.5.0",
      "_model_name": "DescriptionStyleModel",
      "_view_count": null,
      "_view_module": "@jupyter-widgets/base",
      "_view_module_version": "1.2.0",
      "_view_name": "StyleView",
      "description_width": ""
     }
    },
    "66889bda90ad4a829ee3022f6c29e0a1": {
     "model_module": "@jupyter-widgets/base",
     "model_module_version": "1.2.0",
     "model_name": "LayoutModel",
     "state": {
      "_model_module": "@jupyter-widgets/base",
      "_model_module_version": "1.2.0",
      "_model_name": "LayoutModel",
      "_view_count": null,
      "_view_module": "@jupyter-widgets/base",
      "_view_module_version": "1.2.0",
      "_view_name": "LayoutView",
      "align_content": null,
      "align_items": null,
      "align_self": null,
      "border": null,
      "bottom": null,
      "display": null,
      "flex": null,
      "flex_flow": null,
      "grid_area": null,
      "grid_auto_columns": null,
      "grid_auto_flow": null,
      "grid_auto_rows": null,
      "grid_column": null,
      "grid_gap": null,
      "grid_row": null,
      "grid_template_areas": null,
      "grid_template_columns": null,
      "grid_template_rows": null,
      "height": null,
      "justify_content": null,
      "justify_items": null,
      "left": null,
      "margin": null,
      "max_height": null,
      "max_width": null,
      "min_height": null,
      "min_width": null,
      "object_fit": null,
      "object_position": null,
      "order": null,
      "overflow": null,
      "overflow_x": null,
      "overflow_y": null,
      "padding": null,
      "right": null,
      "top": null,
      "visibility": null,
      "width": null
     }
    },
    "685f305a0f3548a7a17052aa84e73747": {
     "model_module": "@jupyter-widgets/controls",
     "model_module_version": "1.5.0",
     "model_name": "HTMLModel",
     "state": {
      "_dom_classes": [],
      "_model_module": "@jupyter-widgets/controls",
      "_model_module_version": "1.5.0",
      "_model_name": "HTMLModel",
      "_view_count": null,
      "_view_module": "@jupyter-widgets/controls",
      "_view_module_version": "1.5.0",
      "_view_name": "HTMLView",
      "description": "",
      "description_tooltip": null,
      "layout": "IPY_MODEL_065b2872b4e145bb9d9af9c070d28799",
      "placeholder": "​",
      "style": "IPY_MODEL_cc2f5ea1ee954eaeaa14434e6285ce19",
      "value": "Downloading: 100%"
     }
    },
    "6fb3ff725108483f9dfc07471556907e": {
     "model_module": "@jupyter-widgets/controls",
     "model_module_version": "1.5.0",
     "model_name": "HTMLModel",
     "state": {
      "_dom_classes": [],
      "_model_module": "@jupyter-widgets/controls",
      "_model_module_version": "1.5.0",
      "_model_name": "HTMLModel",
      "_view_count": null,
      "_view_module": "@jupyter-widgets/controls",
      "_view_module_version": "1.5.0",
      "_view_name": "HTMLView",
      "description": "",
      "description_tooltip": null,
      "layout": "IPY_MODEL_66889bda90ad4a829ee3022f6c29e0a1",
      "placeholder": "​",
      "style": "IPY_MODEL_5925f8310d1d4cfeb2bdd66a7f5be003",
      "value": " 3.02G/3.02G [01:09&lt;00:00, 48.8MB/s]"
     }
    },
    "70fb994b9cfe4b72ba8ec18465b8c565": {
     "model_module": "@jupyter-widgets/controls",
     "model_module_version": "1.5.0",
     "model_name": "FloatProgressModel",
     "state": {
      "_dom_classes": [],
      "_model_module": "@jupyter-widgets/controls",
      "_model_module_version": "1.5.0",
      "_model_name": "FloatProgressModel",
      "_view_count": null,
      "_view_module": "@jupyter-widgets/controls",
      "_view_module_version": "1.5.0",
      "_view_name": "ProgressView",
      "bar_style": "success",
      "description": "",
      "description_tooltip": null,
      "layout": "IPY_MODEL_b4d1533a2ace4aa2930376000885e615",
      "max": 3247202234,
      "min": 0,
      "orientation": "horizontal",
      "style": "IPY_MODEL_1a3cf08f95dd443c8c9a341a81fe0a6a",
      "value": 3247202234
     }
    },
    "745f1a47522141479b2c6c97e4333e87": {
     "model_module": "@jupyter-widgets/controls",
     "model_module_version": "1.5.0",
     "model_name": "HBoxModel",
     "state": {
      "_dom_classes": [],
      "_model_module": "@jupyter-widgets/controls",
      "_model_module_version": "1.5.0",
      "_model_name": "HBoxModel",
      "_view_count": null,
      "_view_module": "@jupyter-widgets/controls",
      "_view_module_version": "1.5.0",
      "_view_name": "HBoxView",
      "box_style": "",
      "children": [
       "IPY_MODEL_685f305a0f3548a7a17052aa84e73747",
       "IPY_MODEL_c08627df432e4d259862d372d9f57b66",
       "IPY_MODEL_534a142d14c64b719faa0149af5db66f"
      ],
      "layout": "IPY_MODEL_f1653898d7f8435cb1a2653cd4c3efc0"
     }
    },
    "7e9a47b94ec94f6cb3c2cfc02cb63864": {
     "model_module": "@jupyter-widgets/base",
     "model_module_version": "1.2.0",
     "model_name": "LayoutModel",
     "state": {
      "_model_module": "@jupyter-widgets/base",
      "_model_module_version": "1.2.0",
      "_model_name": "LayoutModel",
      "_view_count": null,
      "_view_module": "@jupyter-widgets/base",
      "_view_module_version": "1.2.0",
      "_view_name": "LayoutView",
      "align_content": null,
      "align_items": null,
      "align_self": null,
      "border": null,
      "bottom": null,
      "display": null,
      "flex": null,
      "flex_flow": null,
      "grid_area": null,
      "grid_auto_columns": null,
      "grid_auto_flow": null,
      "grid_auto_rows": null,
      "grid_column": null,
      "grid_gap": null,
      "grid_row": null,
      "grid_template_areas": null,
      "grid_template_columns": null,
      "grid_template_rows": null,
      "height": null,
      "justify_content": null,
      "justify_items": null,
      "left": null,
      "margin": null,
      "max_height": null,
      "max_width": null,
      "min_height": null,
      "min_width": null,
      "object_fit": null,
      "object_position": null,
      "order": null,
      "overflow": null,
      "overflow_x": null,
      "overflow_y": null,
      "padding": null,
      "right": null,
      "top": null,
      "visibility": null,
      "width": null
     }
    },
    "7fc9c60aa3a649c9b374efc5d4d7da9d": {
     "model_module": "@jupyter-widgets/controls",
     "model_module_version": "1.5.0",
     "model_name": "HBoxModel",
     "state": {
      "_dom_classes": [],
      "_model_module": "@jupyter-widgets/controls",
      "_model_module_version": "1.5.0",
      "_model_name": "HBoxModel",
      "_view_count": null,
      "_view_module": "@jupyter-widgets/controls",
      "_view_module_version": "1.5.0",
      "_view_name": "HBoxView",
      "box_style": "",
      "children": [
       "IPY_MODEL_8bc9a4b71df744efa5169be55c0523b1",
       "IPY_MODEL_70fb994b9cfe4b72ba8ec18465b8c565",
       "IPY_MODEL_6fb3ff725108483f9dfc07471556907e"
      ],
      "layout": "IPY_MODEL_fc1c34e649a0462db761ae8ef139e934"
     }
    },
    "82b2d99b396f46198947fe82d2d3d3fc": {
     "model_module": "@jupyter-widgets/base",
     "model_module_version": "1.2.0",
     "model_name": "LayoutModel",
     "state": {
      "_model_module": "@jupyter-widgets/base",
      "_model_module_version": "1.2.0",
      "_model_name": "LayoutModel",
      "_view_count": null,
      "_view_module": "@jupyter-widgets/base",
      "_view_module_version": "1.2.0",
      "_view_name": "LayoutView",
      "align_content": null,
      "align_items": null,
      "align_self": null,
      "border": null,
      "bottom": null,
      "display": null,
      "flex": null,
      "flex_flow": null,
      "grid_area": null,
      "grid_auto_columns": null,
      "grid_auto_flow": null,
      "grid_auto_rows": null,
      "grid_column": null,
      "grid_gap": null,
      "grid_row": null,
      "grid_template_areas": null,
      "grid_template_columns": null,
      "grid_template_rows": null,
      "height": null,
      "justify_content": null,
      "justify_items": null,
      "left": null,
      "margin": null,
      "max_height": null,
      "max_width": null,
      "min_height": null,
      "min_width": null,
      "object_fit": null,
      "object_position": null,
      "order": null,
      "overflow": null,
      "overflow_x": null,
      "overflow_y": null,
      "padding": null,
      "right": null,
      "top": null,
      "visibility": null,
      "width": null
     }
    },
    "83fbc163a1074aecbbd0dc8bbe76c9f3": {
     "model_module": "@jupyter-widgets/base",
     "model_module_version": "1.2.0",
     "model_name": "LayoutModel",
     "state": {
      "_model_module": "@jupyter-widgets/base",
      "_model_module_version": "1.2.0",
      "_model_name": "LayoutModel",
      "_view_count": null,
      "_view_module": "@jupyter-widgets/base",
      "_view_module_version": "1.2.0",
      "_view_name": "LayoutView",
      "align_content": null,
      "align_items": null,
      "align_self": null,
      "border": null,
      "bottom": null,
      "display": null,
      "flex": null,
      "flex_flow": null,
      "grid_area": null,
      "grid_auto_columns": null,
      "grid_auto_flow": null,
      "grid_auto_rows": null,
      "grid_column": null,
      "grid_gap": null,
      "grid_row": null,
      "grid_template_areas": null,
      "grid_template_columns": null,
      "grid_template_rows": null,
      "height": null,
      "justify_content": null,
      "justify_items": null,
      "left": null,
      "margin": null,
      "max_height": null,
      "max_width": null,
      "min_height": null,
      "min_width": null,
      "object_fit": null,
      "object_position": null,
      "order": null,
      "overflow": null,
      "overflow_x": null,
      "overflow_y": null,
      "padding": null,
      "right": null,
      "top": null,
      "visibility": null,
      "width": null
     }
    },
    "8bc9a4b71df744efa5169be55c0523b1": {
     "model_module": "@jupyter-widgets/controls",
     "model_module_version": "1.5.0",
     "model_name": "HTMLModel",
     "state": {
      "_dom_classes": [],
      "_model_module": "@jupyter-widgets/controls",
      "_model_module_version": "1.5.0",
      "_model_name": "HTMLModel",
      "_view_count": null,
      "_view_module": "@jupyter-widgets/controls",
      "_view_module_version": "1.5.0",
      "_view_name": "HTMLView",
      "description": "",
      "description_tooltip": null,
      "layout": "IPY_MODEL_c49bc99f2d404c858bc637fd6c0f7fbf",
      "placeholder": "​",
      "style": "IPY_MODEL_271551b174cc4dd1acd332fa3525d42f",
      "value": "Downloading: 100%"
     }
    },
    "91f7cdf203fe4aaf86031e502044d83c": {
     "model_module": "@jupyter-widgets/controls",
     "model_module_version": "1.5.0",
     "model_name": "DescriptionStyleModel",
     "state": {
      "_model_module": "@jupyter-widgets/controls",
      "_model_module_version": "1.5.0",
      "_model_name": "DescriptionStyleModel",
      "_view_count": null,
      "_view_module": "@jupyter-widgets/base",
      "_view_module_version": "1.2.0",
      "_view_name": "StyleView",
      "description_width": ""
     }
    },
    "b4d1533a2ace4aa2930376000885e615": {
     "model_module": "@jupyter-widgets/base",
     "model_module_version": "1.2.0",
     "model_name": "LayoutModel",
     "state": {
      "_model_module": "@jupyter-widgets/base",
      "_model_module_version": "1.2.0",
      "_model_name": "LayoutModel",
      "_view_count": null,
      "_view_module": "@jupyter-widgets/base",
      "_view_module_version": "1.2.0",
      "_view_name": "LayoutView",
      "align_content": null,
      "align_items": null,
      "align_self": null,
      "border": null,
      "bottom": null,
      "display": null,
      "flex": null,
      "flex_flow": null,
      "grid_area": null,
      "grid_auto_columns": null,
      "grid_auto_flow": null,
      "grid_auto_rows": null,
      "grid_column": null,
      "grid_gap": null,
      "grid_row": null,
      "grid_template_areas": null,
      "grid_template_columns": null,
      "grid_template_rows": null,
      "height": null,
      "justify_content": null,
      "justify_items": null,
      "left": null,
      "margin": null,
      "max_height": null,
      "max_width": null,
      "min_height": null,
      "min_width": null,
      "object_fit": null,
      "object_position": null,
      "order": null,
      "overflow": null,
      "overflow_x": null,
      "overflow_y": null,
      "padding": null,
      "right": null,
      "top": null,
      "visibility": null,
      "width": null
     }
    },
    "b86aef32a9014a72bf4e9f43957bc45e": {
     "model_module": "@jupyter-widgets/controls",
     "model_module_version": "1.5.0",
     "model_name": "HTMLModel",
     "state": {
      "_dom_classes": [],
      "_model_module": "@jupyter-widgets/controls",
      "_model_module_version": "1.5.0",
      "_model_name": "HTMLModel",
      "_view_count": null,
      "_view_module": "@jupyter-widgets/controls",
      "_view_module_version": "1.5.0",
      "_view_name": "HTMLView",
      "description": "",
      "description_tooltip": null,
      "layout": "IPY_MODEL_83fbc163a1074aecbbd0dc8bbe76c9f3",
      "placeholder": "​",
      "style": "IPY_MODEL_1ed86ff2c1d448fa985a9e4d5bc7b155",
      "value": "Downloading: 100%"
     }
    },
    "c08627df432e4d259862d372d9f57b66": {
     "model_module": "@jupyter-widgets/controls",
     "model_module_version": "1.5.0",
     "model_name": "FloatProgressModel",
     "state": {
      "_dom_classes": [],
      "_model_module": "@jupyter-widgets/controls",
      "_model_module_version": "1.5.0",
      "_model_name": "FloatProgressModel",
      "_view_count": null,
      "_view_module": "@jupyter-widgets/controls",
      "_view_module_version": "1.5.0",
      "_view_name": "ProgressView",
      "bar_style": "success",
      "description": "",
      "description_tooltip": null,
      "layout": "IPY_MODEL_82b2d99b396f46198947fe82d2d3d3fc",
      "max": 456318,
      "min": 0,
      "orientation": "horizontal",
      "style": "IPY_MODEL_f215bc2359364c90bce8d572e76c35b1",
      "value": 456318
     }
    },
    "c312cc3334a04874a75de62466549a79": {
     "model_module": "@jupyter-widgets/controls",
     "model_module_version": "1.5.0",
     "model_name": "DescriptionStyleModel",
     "state": {
      "_model_module": "@jupyter-widgets/controls",
      "_model_module_version": "1.5.0",
      "_model_name": "DescriptionStyleModel",
      "_view_count": null,
      "_view_module": "@jupyter-widgets/base",
      "_view_module_version": "1.2.0",
      "_view_name": "StyleView",
      "description_width": ""
     }
    },
    "c49bc99f2d404c858bc637fd6c0f7fbf": {
     "model_module": "@jupyter-widgets/base",
     "model_module_version": "1.2.0",
     "model_name": "LayoutModel",
     "state": {
      "_model_module": "@jupyter-widgets/base",
      "_model_module_version": "1.2.0",
      "_model_name": "LayoutModel",
      "_view_count": null,
      "_view_module": "@jupyter-widgets/base",
      "_view_module_version": "1.2.0",
      "_view_name": "LayoutView",
      "align_content": null,
      "align_items": null,
      "align_self": null,
      "border": null,
      "bottom": null,
      "display": null,
      "flex": null,
      "flex_flow": null,
      "grid_area": null,
      "grid_auto_columns": null,
      "grid_auto_flow": null,
      "grid_auto_rows": null,
      "grid_column": null,
      "grid_gap": null,
      "grid_row": null,
      "grid_template_areas": null,
      "grid_template_columns": null,
      "grid_template_rows": null,
      "height": null,
      "justify_content": null,
      "justify_items": null,
      "left": null,
      "margin": null,
      "max_height": null,
      "max_width": null,
      "min_height": null,
      "min_width": null,
      "object_fit": null,
      "object_position": null,
      "order": null,
      "overflow": null,
      "overflow_x": null,
      "overflow_y": null,
      "padding": null,
      "right": null,
      "top": null,
      "visibility": null,
      "width": null
     }
    },
    "cc2f5ea1ee954eaeaa14434e6285ce19": {
     "model_module": "@jupyter-widgets/controls",
     "model_module_version": "1.5.0",
     "model_name": "DescriptionStyleModel",
     "state": {
      "_model_module": "@jupyter-widgets/controls",
      "_model_module_version": "1.5.0",
      "_model_name": "DescriptionStyleModel",
      "_view_count": null,
      "_view_module": "@jupyter-widgets/base",
      "_view_module_version": "1.2.0",
      "_view_name": "StyleView",
      "description_width": ""
     }
    },
    "d3b5763e0d21414f9769be56b111bd56": {
     "model_module": "@jupyter-widgets/base",
     "model_module_version": "1.2.0",
     "model_name": "LayoutModel",
     "state": {
      "_model_module": "@jupyter-widgets/base",
      "_model_module_version": "1.2.0",
      "_model_name": "LayoutModel",
      "_view_count": null,
      "_view_module": "@jupyter-widgets/base",
      "_view_module_version": "1.2.0",
      "_view_name": "LayoutView",
      "align_content": null,
      "align_items": null,
      "align_self": null,
      "border": null,
      "bottom": null,
      "display": null,
      "flex": null,
      "flex_flow": null,
      "grid_area": null,
      "grid_auto_columns": null,
      "grid_auto_flow": null,
      "grid_auto_rows": null,
      "grid_column": null,
      "grid_gap": null,
      "grid_row": null,
      "grid_template_areas": null,
      "grid_template_columns": null,
      "grid_template_rows": null,
      "height": null,
      "justify_content": null,
      "justify_items": null,
      "left": null,
      "margin": null,
      "max_height": null,
      "max_width": null,
      "min_height": null,
      "min_width": null,
      "object_fit": null,
      "object_position": null,
      "order": null,
      "overflow": null,
      "overflow_x": null,
      "overflow_y": null,
      "padding": null,
      "right": null,
      "top": null,
      "visibility": null,
      "width": null
     }
    },
    "dd911db902c044c19231d710419129c7": {
     "model_module": "@jupyter-widgets/base",
     "model_module_version": "1.2.0",
     "model_name": "LayoutModel",
     "state": {
      "_model_module": "@jupyter-widgets/base",
      "_model_module_version": "1.2.0",
      "_model_name": "LayoutModel",
      "_view_count": null,
      "_view_module": "@jupyter-widgets/base",
      "_view_module_version": "1.2.0",
      "_view_name": "LayoutView",
      "align_content": null,
      "align_items": null,
      "align_self": null,
      "border": null,
      "bottom": null,
      "display": null,
      "flex": null,
      "flex_flow": null,
      "grid_area": null,
      "grid_auto_columns": null,
      "grid_auto_flow": null,
      "grid_auto_rows": null,
      "grid_column": null,
      "grid_gap": null,
      "grid_row": null,
      "grid_template_areas": null,
      "grid_template_columns": null,
      "grid_template_rows": null,
      "height": null,
      "justify_content": null,
      "justify_items": null,
      "left": null,
      "margin": null,
      "max_height": null,
      "max_width": null,
      "min_height": null,
      "min_width": null,
      "object_fit": null,
      "object_position": null,
      "order": null,
      "overflow": null,
      "overflow_x": null,
      "overflow_y": null,
      "padding": null,
      "right": null,
      "top": null,
      "visibility": null,
      "width": null
     }
    },
    "e098a19d91fd401fbc3c010174dc91c8": {
     "model_module": "@jupyter-widgets/base",
     "model_module_version": "1.2.0",
     "model_name": "LayoutModel",
     "state": {
      "_model_module": "@jupyter-widgets/base",
      "_model_module_version": "1.2.0",
      "_model_name": "LayoutModel",
      "_view_count": null,
      "_view_module": "@jupyter-widgets/base",
      "_view_module_version": "1.2.0",
      "_view_name": "LayoutView",
      "align_content": null,
      "align_items": null,
      "align_self": null,
      "border": null,
      "bottom": null,
      "display": null,
      "flex": null,
      "flex_flow": null,
      "grid_area": null,
      "grid_auto_columns": null,
      "grid_auto_flow": null,
      "grid_auto_rows": null,
      "grid_column": null,
      "grid_gap": null,
      "grid_row": null,
      "grid_template_areas": null,
      "grid_template_columns": null,
      "grid_template_rows": null,
      "height": null,
      "justify_content": null,
      "justify_items": null,
      "left": null,
      "margin": null,
      "max_height": null,
      "max_width": null,
      "min_height": null,
      "min_width": null,
      "object_fit": null,
      "object_position": null,
      "order": null,
      "overflow": null,
      "overflow_x": null,
      "overflow_y": null,
      "padding": null,
      "right": null,
      "top": null,
      "visibility": null,
      "width": null
     }
    },
    "e277412b18e349aeb82cc88b7304a64c": {
     "model_module": "@jupyter-widgets/controls",
     "model_module_version": "1.5.0",
     "model_name": "ProgressStyleModel",
     "state": {
      "_model_module": "@jupyter-widgets/controls",
      "_model_module_version": "1.5.0",
      "_model_name": "ProgressStyleModel",
      "_view_count": null,
      "_view_module": "@jupyter-widgets/base",
      "_view_module_version": "1.2.0",
      "_view_name": "StyleView",
      "bar_color": null,
      "description_width": ""
     }
    },
    "f1653898d7f8435cb1a2653cd4c3efc0": {
     "model_module": "@jupyter-widgets/base",
     "model_module_version": "1.2.0",
     "model_name": "LayoutModel",
     "state": {
      "_model_module": "@jupyter-widgets/base",
      "_model_module_version": "1.2.0",
      "_model_name": "LayoutModel",
      "_view_count": null,
      "_view_module": "@jupyter-widgets/base",
      "_view_module_version": "1.2.0",
      "_view_name": "LayoutView",
      "align_content": null,
      "align_items": null,
      "align_self": null,
      "border": null,
      "bottom": null,
      "display": null,
      "flex": null,
      "flex_flow": null,
      "grid_area": null,
      "grid_auto_columns": null,
      "grid_auto_flow": null,
      "grid_auto_rows": null,
      "grid_column": null,
      "grid_gap": null,
      "grid_row": null,
      "grid_template_areas": null,
      "grid_template_columns": null,
      "grid_template_rows": null,
      "height": null,
      "justify_content": null,
      "justify_items": null,
      "left": null,
      "margin": null,
      "max_height": null,
      "max_width": null,
      "min_height": null,
      "min_width": null,
      "object_fit": null,
      "object_position": null,
      "order": null,
      "overflow": null,
      "overflow_x": null,
      "overflow_y": null,
      "padding": null,
      "right": null,
      "top": null,
      "visibility": null,
      "width": null
     }
    },
    "f215bc2359364c90bce8d572e76c35b1": {
     "model_module": "@jupyter-widgets/controls",
     "model_module_version": "1.5.0",
     "model_name": "ProgressStyleModel",
     "state": {
      "_model_module": "@jupyter-widgets/controls",
      "_model_module_version": "1.5.0",
      "_model_name": "ProgressStyleModel",
      "_view_count": null,
      "_view_module": "@jupyter-widgets/base",
      "_view_module_version": "1.2.0",
      "_view_name": "StyleView",
      "bar_color": null,
      "description_width": ""
     }
    },
    "f69e229076f14348b5e923bf8c2004ba": {
     "model_module": "@jupyter-widgets/base",
     "model_module_version": "1.2.0",
     "model_name": "LayoutModel",
     "state": {
      "_model_module": "@jupyter-widgets/base",
      "_model_module_version": "1.2.0",
      "_model_name": "LayoutModel",
      "_view_count": null,
      "_view_module": "@jupyter-widgets/base",
      "_view_module_version": "1.2.0",
      "_view_name": "LayoutView",
      "align_content": null,
      "align_items": null,
      "align_self": null,
      "border": null,
      "bottom": null,
      "display": null,
      "flex": null,
      "flex_flow": null,
      "grid_area": null,
      "grid_auto_columns": null,
      "grid_auto_flow": null,
      "grid_auto_rows": null,
      "grid_column": null,
      "grid_gap": null,
      "grid_row": null,
      "grid_template_areas": null,
      "grid_template_columns": null,
      "grid_template_rows": null,
      "height": null,
      "justify_content": null,
      "justify_items": null,
      "left": null,
      "margin": null,
      "max_height": null,
      "max_width": null,
      "min_height": null,
      "min_width": null,
      "object_fit": null,
      "object_position": null,
      "order": null,
      "overflow": null,
      "overflow_x": null,
      "overflow_y": null,
      "padding": null,
      "right": null,
      "top": null,
      "visibility": null,
      "width": null
     }
    },
    "fc1c34e649a0462db761ae8ef139e934": {
     "model_module": "@jupyter-widgets/base",
     "model_module_version": "1.2.0",
     "model_name": "LayoutModel",
     "state": {
      "_model_module": "@jupyter-widgets/base",
      "_model_module_version": "1.2.0",
      "_model_name": "LayoutModel",
      "_view_count": null,
      "_view_module": "@jupyter-widgets/base",
      "_view_module_version": "1.2.0",
      "_view_name": "LayoutView",
      "align_content": null,
      "align_items": null,
      "align_self": null,
      "border": null,
      "bottom": null,
      "display": null,
      "flex": null,
      "flex_flow": null,
      "grid_area": null,
      "grid_auto_columns": null,
      "grid_auto_flow": null,
      "grid_auto_rows": null,
      "grid_column": null,
      "grid_gap": null,
      "grid_row": null,
      "grid_template_areas": null,
      "grid_template_columns": null,
      "grid_template_rows": null,
      "height": null,
      "justify_content": null,
      "justify_items": null,
      "left": null,
      "margin": null,
      "max_height": null,
      "max_width": null,
      "min_height": null,
      "min_width": null,
      "object_fit": null,
      "object_position": null,
      "order": null,
      "overflow": null,
      "overflow_x": null,
      "overflow_y": null,
      "padding": null,
      "right": null,
      "top": null,
      "visibility": null,
      "width": null
     }
    },
    "fdb8a871e6d743af85496f0ca530b1fc": {
     "model_module": "@jupyter-widgets/controls",
     "model_module_version": "1.5.0",
     "model_name": "HBoxModel",
     "state": {
      "_dom_classes": [],
      "_model_module": "@jupyter-widgets/controls",
      "_model_module_version": "1.5.0",
      "_model_name": "HBoxModel",
      "_view_count": null,
      "_view_module": "@jupyter-widgets/controls",
      "_view_module_version": "1.5.0",
      "_view_name": "HBoxView",
      "box_style": "",
      "children": [
       "IPY_MODEL_b86aef32a9014a72bf4e9f43957bc45e",
       "IPY_MODEL_140fd67ac66c45f1b8da96eac80c4821",
       "IPY_MODEL_4136d86c0999431fbc2fc1ecb4204cc1"
      ],
      "layout": "IPY_MODEL_f69e229076f14348b5e923bf8c2004ba"
     }
    }
   }
  }
 },
 "nbformat": 4,
 "nbformat_minor": 0
}
